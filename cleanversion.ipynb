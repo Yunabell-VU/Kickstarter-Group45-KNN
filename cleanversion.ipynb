{
 "cells": [
  {
   "cell_type": "markdown",
   "metadata": {},
   "source": [
    "## Import Libraries"
   ]
  },
  {
   "cell_type": "code",
   "execution_count": 1,
   "metadata": {},
   "outputs": [],
   "source": [
    "import pandas as pd\n",
    "import seaborn as sns\n",
    "import numpy as np\n",
    "\n",
    "import matplotlib.pyplot as plt\n",
    "%matplotlib inline\n",
    "\n",
    "from matplotlib.pylab import rcParams\n",
    "rcParams['figure.figsize'] = 16, 8\n",
    "\n",
    "from scipy.stats import norm\n",
    "from scipy import stats\n",
    "\n",
    "from sklearn.preprocessing import StandardScaler\n",
    "from sklearn.model_selection import train_test_split\n",
    "from sklearn.feature_extraction.text import TfidfVectorizer\n",
    "from sklearn.feature_extraction.text import CountVectorizer\n",
    "from sklearn.linear_model import LinearRegression\n",
    "\n",
    "import warnings\n",
    "warnings.filterwarnings('ignore')"
   ]
  },
  {
   "cell_type": "markdown",
   "metadata": {},
   "source": [
    "\n",
    "## Load data"
   ]
  },
  {
   "cell_type": "code",
   "execution_count": 2,
   "metadata": {},
   "outputs": [],
   "source": [
    "df_ks = pd.read_csv('KS_train_data.csv', delimiter= ',')\n",
    "data_ks_to_predict = pd.read_csv('KS_test_data.csv', delimiter= ';')"
   ]
  },
  {
   "cell_type": "markdown",
   "metadata": {},
   "source": [
    "## Derive features"
   ]
  },
  {
   "cell_type": "markdown",
   "metadata": {},
   "source": [
    "### Goal related feature"
   ]
  },
  {
   "cell_type": "code",
   "execution_count": 3,
   "metadata": {},
   "outputs": [],
   "source": [
    "df_ks['usd_goal'] = df_ks['goal'] * df_ks['fx_rate']"
   ]
  },
  {
   "cell_type": "code",
   "execution_count": 4,
   "metadata": {},
   "outputs": [
    {
     "data": {
      "text/plain": [
       "<seaborn.axisgrid.FacetGrid at 0x2d140e58610>"
      ]
     },
     "execution_count": 4,
     "metadata": {},
     "output_type": "execute_result"
    },
    {
     "data": {
      "image/png": "[encoded data removed]",
      "text/plain": [
       "<Figure size 360x360 with 1 Axes>"
      ]
     },
     "metadata": {
      "needs_background": "light"
     },
     "output_type": "display_data"
    }
   ],
   "source": [
    "df_ks['log_usd_goal'] = np.log(df_ks['usd_goal'])\n",
    "\n",
    "sns.displot(df_ks['log_usd_goal'])"
   ]
  },
  {
   "cell_type": "markdown",
   "metadata": {},
   "source": [
    "### Promotion duration"
   ]
  },
  {
   "cell_type": "code",
   "execution_count": 5,
   "metadata": {},
   "outputs": [],
   "source": [
    "duration = pd.to_datetime(df_ks['deadline'], unit='s') - pd.to_datetime(df_ks['launched_at'], unit='s')\n",
    "df_ks['promotion_duration'] = duration / np.timedelta64(1, 'D')"
   ]
  },
  {
   "cell_type": "code",
   "execution_count": 6,
   "metadata": {},
   "outputs": [
    {
     "data": {
      "text/plain": [
       "count    100000.000000\n",
       "mean         33.840738\n",
       "std          12.953758\n",
       "min           1.000000\n",
       "25%          30.000000\n",
       "50%          30.000000\n",
       "75%          36.000000\n",
       "max          91.958333\n",
       "Name: promotion_duration, dtype: float64"
      ]
     },
     "execution_count": 6,
     "metadata": {},
     "output_type": "execute_result"
    },
    {
     "data": {
      "image/png": "[encoded data removed]",
      "text/plain": [
       "<Figure size 360x360 with 1 Axes>"
      ]
     },
     "metadata": {
      "needs_background": "light"
     },
     "output_type": "display_data"
    }
   ],
   "source": [
    "sns.displot(df_ks['promotion_duration'])\n",
    "df_ks['promotion_duration'].describe()"
   ]
  },
  {
   "cell_type": "code",
   "execution_count": 7,
   "metadata": {},
   "outputs": [
    {
     "name": "stdout",
     "output_type": "stream",
     "text": [
      "Float64Index([              30.0,               60.0, 29.958333333333332,\n",
      "              30.041666666666668,               45.0,               40.0,\n",
      "                            35.0, 60.041666666666664,               20.0,\n",
      "              59.958333333333336,               21.0,               15.0,\n",
      "                            25.0,               31.0,               14.0,\n",
      "                            28.0, 44.958333333333336,               10.0],\n",
      "             dtype='float64')\n"
     ]
    }
   ],
   "source": [
    "top_10 = df_ks['promotion_duration'].value_counts()[:10].index\n",
    "print(top_10)"
   ]
  },
  {
   "cell_type": "markdown",
   "metadata": {},
   "source": [
    "### Encode country and category"
   ]
  },
  {
   "cell_type": "code",
   "execution_count": 8,
   "metadata": {},
   "outputs": [],
   "source": [
    "from sklearn import preprocessing\n",
    "\n",
    "#creating labelEncoder\n",
    "le = preprocessing.LabelEncoder()"
   ]
  },
  {
   "cell_type": "code",
   "execution_count": 9,
   "metadata": {},
   "outputs": [],
   "source": [
    "# Converting string labels into numbers.\n",
    "df_ks['country_encoded'] = le.fit_transform(df_ks['country'])\n",
    "\n",
    "# print(df_ks['country_encoded'] )"
   ]
  },
  {
   "cell_type": "code",
   "execution_count": 10,
   "metadata": {},
   "outputs": [],
   "source": [
    "df_ks['category_encoded'] = le.fit_transform(df_ks['category'])\n",
    "\n",
    "#print(df_ks['category_encoded'])"
   ]
  },
  {
   "cell_type": "markdown",
   "metadata": {},
   "source": [
    "### One-hot Encoding"
   ]
  },
  {
   "cell_type": "code",
   "execution_count": 11,
   "metadata": {},
   "outputs": [],
   "source": [
    "from sklearn.preprocessing import OneHotEncoder\n",
    "\n",
    "enc = OneHotEncoder(handle_unknown='ignore')\n",
    "\n",
    "enc_category = pd.DataFrame(enc.fit_transform(df_ks[['category']]).toarray())"
   ]
  },
  {
   "cell_type": "code",
   "execution_count": 12,
   "metadata": {},
   "outputs": [],
   "source": [
    "df_ks = df_ks.join(enc_category)"
   ]
  },
  {
   "cell_type": "code",
   "execution_count": 13,
   "metadata": {},
   "outputs": [],
   "source": [
    "enc_country = pd.DataFrame(enc.fit_transform(df_ks[['country']]).toarray())"
   ]
  },
  {
   "cell_type": "code",
   "execution_count": null,
   "metadata": {},
   "outputs": [],
   "source": [
    "# 同样的Head和category冲突 （0-14部分）\n",
    "# df_ks = df_ks.join(enc_country)"
   ]
  },
  {
   "cell_type": "markdown",
   "metadata": {},
   "source": [
    "## Model Training"
   ]
  },
  {
   "cell_type": "markdown",
   "metadata": {},
   "source": [
    "### Choose features"
   ]
  },
  {
   "cell_type": "code",
   "execution_count": 24,
   "metadata": {},
   "outputs": [],
   "source": [
    "\n",
    "# 1号\n",
    "# Random Forest中Train最高的features （Train：0.89， Test：0.69 ）明显 Overfit\n",
    "# KNN（Train：0.70， Test：0.69）\n",
    "#features = ['log_usd_goal','promotion_duration','country_encoded','category_encoded','staff_pick']\n",
    "# Random Forest（Train：0.78， Test：0.70 ）Overfit 的元凶就是promotion_duration\n",
    "#features = ['log_usd_goal','country_encoded','category_encoded','staff_pick']\n",
    "\n",
    "# 2号\n",
    "# 没有country 在KNN中反而分数更高，但是不明显（Train: 0.71, Test: 0.7)\n",
    "# Random Forest中Train略有下降，但依然Overfit （Train：0.88， Test：0.69）\n",
    "#features = ['log_usd_goal','promotion_duration','category_encoded','staff_pick']\n",
    "\n",
    "# 9号\n",
    "# 没有promotion之后，RF的Overfit情况明显好转\n",
    "# Random Forest（Train：0.764， Test：0.7006）\n",
    "features = ['log_usd_goal','category_encoded','staff_pick']\n",
    "\n",
    "# 3号\n",
    "# 没有category 只有country 的 KNN得分 （Train：0.68， Test：0.67）\n",
    "# Random Forest test下降，说明category有用 （Train：0.83， Test：0.67）\n",
    "#features = ['log_usd_goal','promotion_duration','country_encoded','staff_pick']\n",
    "\n",
    "# 4号\n",
    "# Categorical Features Only\n",
    "# KNN （Train：0.675， Test: 0.66）说明Numerical Feature还是有用的\n",
    "# Random Forest (Train : 0.68, Test: 0.66) 分数下降，但是Overfit的情况有所好转\n",
    "#features = ['country_encoded','category_encoded','staff_pick']\n",
    "\n",
    "# 5号\n",
    "# Continuous Numerical Features Only\n",
    "# KNN （Train：0.659， Test: 0.6521）两个分数非常接近，没有overfit，但分数不高，还是underfit了\n",
    "# Random Forest (Train : 0.79, Test: 0.63) Overfit情况非常严重 两个model在这里分歧较大\n",
    "#features = ['log_usd_goal','promotion_duration']\n",
    "\n",
    "# 6号\n",
    "# 替换category_encoded成 one-hot encoded\n",
    "# KNN （Train：0.690， Test: 0.678）\n",
    "# Random Forest (Train : 0.868, Test: 0.658)\n",
    "#features = ['log_usd_goal','promotion_duration',0, 1, 2,3,4,5,6,7,8,9,10,11,12,13,14]\n",
    "\n",
    "# 7号\n",
    "#Discrete numerical features only (KNNTraining 和 Test非常的接近，但是都不高，0.66左右)\n",
    "# 可以预见的underfit\n",
    "# KNN （Train：0.651， Test: 0.6499）分数接近\n",
    "# Random Forest (Train : 0.667, Test: 0.667) RF分数最接近的一次\n",
    "#features = ['staff_pick',0, 1, 2,3,4,5,6,7,8,9,10,11,12,13,14]\n",
    "\n",
    "# 8号\n",
    "# 与KNN表现最好features相比，替换encode category的方法，最后结果差不多，encode方法没有影响到KNN，\n",
    "# 但根据网上调查结果和课上一直强调的内容，应该用one-hot encoding而不是labeling\n",
    "# KNN （Train：0.719， Test: 0.7064）\n",
    "# Random Forest (Train : 0.8857, Test: 0.6941)\n",
    "#features = ['log_usd_goal','promotion_duration','staff_pick',0, 1, 2,3,4,5,6,7,8,9,10,11,12,13,14]\n",
    "\n",
    "# KNN （Train：0.710， Test: 0.7037）\n",
    "features = ['log_usd_goal','staff_pick',0, 1, 2,3,4,5,6,7,8,9,10,11,12,13,14]\n",
    "\n",
    "\n",
    "X = df_ks[features]\n",
    "y = df_ks['funded']"
   ]
  },
  {
   "cell_type": "markdown",
   "metadata": {},
   "source": [
    "### Split dataset"
   ]
  },
  {
   "cell_type": "markdown",
   "metadata": {},
   "source": [
    "#### One-fold"
   ]
  },
  {
   "cell_type": "code",
   "execution_count": 25,
   "metadata": {},
   "outputs": [],
   "source": [
    "X_train, X_test, y_train, y_test = train_test_split(X, y, test_size = 0.3)"
   ]
  },
  {
   "cell_type": "markdown",
   "metadata": {},
   "source": [
    "### KNN"
   ]
  },
  {
   "cell_type": "markdown",
   "metadata": {},
   "source": [
    "#### Validation Curve"
   ]
  },
  {
   "cell_type": "code",
   "execution_count": 138,
   "metadata": {},
   "outputs": [
    {
     "data": {
      "text/plain": [
       "<matplotlib.legend.Legend at 0x210b731f8b0>"
      ]
     },
     "execution_count": 138,
     "metadata": {},
     "output_type": "execute_result"
    },
    {
     "data": {
      "image/png": "[encoded data removed]",
      "text/plain": [
       "<Figure size 1152x576 with 1 Axes>"
      ]
     },
     "metadata": {
      "needs_background": "light"
     },
     "output_type": "display_data"
    }
   ],
   "source": [
    "from sklearn.neighbors import KNeighborsClassifier\n",
    "training_accuracy = []\n",
    "test_accuracy = []\n",
    "# try n_neighbors from 1 to 10\n",
    "neighbors_settings = range(1, 50)\n",
    "for n_neighbors in neighbors_settings:\n",
    " # build the model\n",
    " clf = KNeighborsClassifier(n_neighbors=n_neighbors)\n",
    " clf.fit(X_train, y_train)\n",
    " # record training set accuracy\n",
    " training_accuracy.append(clf.score(X_train, y_train))\n",
    " # record generalization accuracy\n",
    " test_accuracy.append(clf.score(X_test, y_test))\n",
    "plt.plot(neighbors_settings, training_accuracy, label=\"training accuracy\")\n",
    "plt.plot(neighbors_settings, test_accuracy, label=\"test accuracy\")\n",
    "plt.ylabel(\"Accuracy\")\n",
    "plt.xlabel(\"n_neighbors\")\n",
    "plt.legend()"
   ]
  },
  {
   "cell_type": "code",
   "execution_count": 26,
   "metadata": {},
   "outputs": [
    {
     "data": {
      "text/plain": [
       "KNeighborsClassifier(n_neighbors=48)"
      ]
     },
     "execution_count": 26,
     "metadata": {},
     "output_type": "execute_result"
    }
   ],
   "source": [
    "from sklearn.neighbors import KNeighborsClassifier\n",
    "\n",
    "knn = KNeighborsClassifier(n_neighbors=48)\n",
    "\n",
    "knn.fit(X_train, y_train)"
   ]
  },
  {
   "cell_type": "code",
   "execution_count": 27,
   "metadata": {},
   "outputs": [
    {
     "name": "stdout",
     "output_type": "stream",
     "text": [
      "0.7103142857142857\n",
      "0.7037\n"
     ]
    }
   ],
   "source": [
    "print(knn.score(X_train, y_train))\n",
    "print(knn.score(X_test, y_test))"
   ]
  },
  {
   "cell_type": "code",
   "execution_count": null,
   "metadata": {},
   "outputs": [],
   "source": [
    "from sklearn import metrics\n",
    "\n",
    "y_pred = knn.predict(X_test)\n",
    "\n",
    "print(\"Accuracy:\",metrics.accuracy_score(y_test, y_pred))"
   ]
  },
  {
   "cell_type": "markdown",
   "metadata": {},
   "source": [
    "#### Cross-validation"
   ]
  },
  {
   "cell_type": "code",
   "execution_count": 122,
   "metadata": {},
   "outputs": [
    {
     "data": {
      "text/plain": [
       "array([0.6377, 0.64  , 0.482 , 0.6734, 0.6697, 0.6681, 0.6701, 0.6485,\n",
       "       0.7159, 0.6403])"
      ]
     },
     "execution_count": 122,
     "metadata": {},
     "output_type": "execute_result"
    }
   ],
   "source": [
    "# 8号features\n",
    "\n",
    "from sklearn.model_selection import cross_val_score\n",
    "from sklearn.neighbors import KNeighborsClassifier\n",
    "\n",
    "knn = KNeighborsClassifier(n_neighbors=50)\n",
    "\n",
    "cross_val_score(knn, X, y, cv = 10)"
   ]
  },
  {
   "cell_type": "markdown",
   "metadata": {},
   "source": [
    "### Random Forests"
   ]
  },
  {
   "cell_type": "code",
   "execution_count": 28,
   "metadata": {},
   "outputs": [
    {
     "data": {
      "text/plain": [
       "BaggingClassifier(base_estimator=DecisionTreeClassifier(), max_samples=0.8,\n",
       "                  n_estimators=100)"
      ]
     },
     "execution_count": 28,
     "metadata": {},
     "output_type": "execute_result"
    }
   ],
   "source": [
    "#Random forest\n",
    "from sklearn.tree import DecisionTreeClassifier\n",
    "from sklearn.ensemble import BaggingClassifier\n",
    "\n",
    "tree = DecisionTreeClassifier()\n",
    "bag = BaggingClassifier(tree, n_estimators=100, max_samples=0.8)\n",
    "bag.fit(X_train, y_train)"
   ]
  },
  {
   "cell_type": "code",
   "execution_count": 29,
   "metadata": {},
   "outputs": [
    {
     "name": "stdout",
     "output_type": "stream",
     "text": [
      "0.7790428571428571\n",
      "0.7041666666666667\n"
     ]
    }
   ],
   "source": [
    "print(bag.score(X_train, y_train))\n",
    "print(bag.score(X_test, y_test))"
   ]
  },
  {
   "cell_type": "markdown",
   "metadata": {},
   "source": [
    "#### RF Cross-validation"
   ]
  },
  {
   "cell_type": "code",
   "execution_count": 120,
   "metadata": {},
   "outputs": [
    {
     "data": {
      "text/plain": [
       "array([0.6466, 0.614 , 0.4642, 0.6653, 0.6748, 0.6701, 0.6631, 0.6331,\n",
       "       0.6772, 0.5497])"
      ]
     },
     "execution_count": 120,
     "metadata": {},
     "output_type": "execute_result"
    }
   ],
   "source": [
    "# 2号 features\n",
    "from sklearn.model_selection import cross_val_score\n",
    "from sklearn.tree import DecisionTreeClassifier\n",
    "from sklearn.ensemble import BaggingClassifier\n",
    "\n",
    "tree = DecisionTreeClassifier()\n",
    "\n",
    "bag = BaggingClassifier(tree, n_estimators=100, max_samples=0.8)\n",
    "\n",
    "cross_val_score(bag, X, y, cv = 10)"
   ]
  },
  {
   "cell_type": "markdown",
   "metadata": {},
   "source": [
    "## Prediction"
   ]
  },
  {
   "cell_type": "markdown",
   "metadata": {},
   "source": [
    "df_res['project_id']\n",
    "df_res['prediction'] = model.predic()"
   ]
  },
  {
   "cell_type": "code",
   "execution_count": null,
   "metadata": {},
   "outputs": [],
   "source": [
    "yourDataframe.to_csv('predictions.tsv', delimiter='\\t', columns=['project_id','prediction'])"
   ]
  }
 ],
 "metadata": {
  "interpreter": {
   "hash": "ac59ebe37160ed0dfa835113d9b8498d9f09ceb179beaac4002f036b9467c963"
  },
  "kernelspec": {
   "display_name": "Python 3.9.5 64-bit",
   "name": "python3"
  },
  "language_info": {
   "codemirror_mode": {
    "name": "ipython",
    "version": 3
   },
   "file_extension": ".py",
   "mimetype": "text/x-python",
   "name": "python",
   "nbconvert_exporter": "python",
   "pygments_lexer": "ipython3",
   "version": "3.9.5"
  },
  "orig_nbformat": 4
 },
 "nbformat": 4,
 "nbformat_minor": 2
}
