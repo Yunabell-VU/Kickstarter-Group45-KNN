{
 "cells": [
  {
   "cell_type": "markdown",
   "metadata": {},
   "source": [
    "## Strandard Import"
   ]
  },
  {
   "cell_type": "code",
   "execution_count": 1,
   "metadata": {},
   "outputs": [],
   "source": [
    "# Import necessary modules and functions\n",
    "\n",
    "import pandas as pd\n",
    "import seaborn as sns\n",
    "import numpy as np\n",
    "\n",
    "import matplotlib.pyplot as plt\n",
    "%matplotlib inline\n",
    "\n",
    "from matplotlib.pylab import rcParams\n",
    "rcParams['figure.figsize'] = 16, 8\n",
    "\n",
    "from scipy.stats import norm\n",
    "from scipy import stats\n",
    "\n",
    "from sklearn.preprocessing import StandardScaler\n",
    "from sklearn.model_selection import train_test_split\n",
    "from sklearn.feature_extraction.text import TfidfVectorizer\n",
    "from sklearn.feature_extraction.text import CountVectorizer\n",
    "from sklearn.linear_model import LinearRegression\n",
    "\n",
    "import warnings\n",
    "warnings.filterwarnings('ignore')"
   ]
  },
  {
   "cell_type": "markdown",
   "metadata": {},
   "source": [
    "## Explore Data"
   ]
  },
  {
   "cell_type": "markdown",
   "metadata": {},
   "source": [
    "### Import Data"
   ]
  },
  {
   "cell_type": "code",
   "execution_count": 2,
   "metadata": {},
   "outputs": [],
   "source": [
    "df_ks_to_display = pd.read_csv('KS_train_data.csv', delimiter= ',')"
   ]
  },
  {
   "cell_type": "markdown",
   "metadata": {},
   "source": [
    "### Describe Data"
   ]
  },
  {
   "cell_type": "markdown",
   "metadata": {},
   "source": [
    "#### Numerical Features"
   ]
  },
  {
   "cell_type": "code",
   "execution_count": 3,
   "metadata": {},
   "outputs": [
    {
     "data": {
      "text/html": [
       "<div>\n",
       "<style scoped>\n",
       "    .dataframe tbody tr th:only-of-type {\n",
       "        vertical-align: middle;\n",
       "    }\n",
       "\n",
       "    .dataframe tbody tr th {\n",
       "        vertical-align: top;\n",
       "    }\n",
       "\n",
       "    .dataframe thead th {\n",
       "        text-align: right;\n",
       "    }\n",
       "</style>\n",
       "<table border=\"1\" class=\"dataframe\">\n",
       "  <thead>\n",
       "    <tr style=\"text-align: right;\">\n",
       "      <th></th>\n",
       "      <th>backers_count</th>\n",
       "      <th>converted_pledged_amount</th>\n",
       "      <th>created_at</th>\n",
       "      <th>deadline</th>\n",
       "      <th>fx_rate</th>\n",
       "      <th>goal</th>\n",
       "      <th>launched_at</th>\n",
       "      <th>pledged</th>\n",
       "      <th>usd_pledged</th>\n",
       "    </tr>\n",
       "  </thead>\n",
       "  <tbody>\n",
       "    <tr>\n",
       "      <th>count</th>\n",
       "      <td>100000.000000</td>\n",
       "      <td>1.000000e+05</td>\n",
       "      <td>1.000000e+05</td>\n",
       "      <td>1.000000e+05</td>\n",
       "      <td>100000.000000</td>\n",
       "      <td>1.000000e+05</td>\n",
       "      <td>1.000000e+05</td>\n",
       "      <td>1.000000e+05</td>\n",
       "      <td>1.000000e+05</td>\n",
       "    </tr>\n",
       "    <tr>\n",
       "      <th>mean</th>\n",
       "      <td>151.089430</td>\n",
       "      <td>1.241108e+04</td>\n",
       "      <td>1.400524e+09</td>\n",
       "      <td>1.406896e+09</td>\n",
       "      <td>1.017654</td>\n",
       "      <td>4.447512e+04</td>\n",
       "      <td>1.403972e+09</td>\n",
       "      <td>1.312485e+04</td>\n",
       "      <td>1.241284e+04</td>\n",
       "    </tr>\n",
       "    <tr>\n",
       "      <th>std</th>\n",
       "      <td>1163.024964</td>\n",
       "      <td>1.005545e+05</td>\n",
       "      <td>6.334581e+07</td>\n",
       "      <td>6.340574e+07</td>\n",
       "      <td>0.169773</td>\n",
       "      <td>1.256033e+06</td>\n",
       "      <td>6.360489e+07</td>\n",
       "      <td>1.080345e+05</td>\n",
       "      <td>1.005368e+05</td>\n",
       "    </tr>\n",
       "    <tr>\n",
       "      <th>min</th>\n",
       "      <td>0.000000</td>\n",
       "      <td>0.000000e+00</td>\n",
       "      <td>1.240366e+09</td>\n",
       "      <td>1.243556e+09</td>\n",
       "      <td>0.009337</td>\n",
       "      <td>1.000000e-02</td>\n",
       "      <td>1.240674e+09</td>\n",
       "      <td>0.000000e+00</td>\n",
       "      <td>0.000000e+00</td>\n",
       "    </tr>\n",
       "    <tr>\n",
       "      <th>25%</th>\n",
       "      <td>4.000000</td>\n",
       "      <td>1.250000e+02</td>\n",
       "      <td>1.349203e+09</td>\n",
       "      <td>1.357171e+09</td>\n",
       "      <td>1.000000</td>\n",
       "      <td>1.500000e+03</td>\n",
       "      <td>1.354313e+09</td>\n",
       "      <td>1.250000e+02</td>\n",
       "      <td>1.250000e+02</td>\n",
       "    </tr>\n",
       "    <tr>\n",
       "      <th>50%</th>\n",
       "      <td>28.000000</td>\n",
       "      <td>1.650000e+03</td>\n",
       "      <td>1.408426e+09</td>\n",
       "      <td>1.415244e+09</td>\n",
       "      <td>1.000000</td>\n",
       "      <td>5.000000e+03</td>\n",
       "      <td>1.412373e+09</td>\n",
       "      <td>1.635500e+03</td>\n",
       "      <td>1.651000e+03</td>\n",
       "    </tr>\n",
       "    <tr>\n",
       "      <th>75%</th>\n",
       "      <td>86.000000</td>\n",
       "      <td>6.271250e+03</td>\n",
       "      <td>1.447206e+09</td>\n",
       "      <td>1.454243e+09</td>\n",
       "      <td>1.000000</td>\n",
       "      <td>1.200000e+04</td>\n",
       "      <td>1.451252e+09</td>\n",
       "      <td>6.310000e+03</td>\n",
       "      <td>6.275042e+03</td>\n",
       "    </tr>\n",
       "    <tr>\n",
       "      <th>max</th>\n",
       "      <td>105857.000000</td>\n",
       "      <td>1.026684e+07</td>\n",
       "      <td>1.517539e+09</td>\n",
       "      <td>1.518702e+09</td>\n",
       "      <td>1.401112</td>\n",
       "      <td>1.000000e+08</td>\n",
       "      <td>1.518037e+09</td>\n",
       "      <td>1.026685e+07</td>\n",
       "      <td>1.026685e+07</td>\n",
       "    </tr>\n",
       "  </tbody>\n",
       "</table>\n",
       "</div>"
      ],
      "text/plain": [
       "       backers_count  converted_pledged_amount    created_at      deadline  \\\n",
       "count  100000.000000              1.000000e+05  1.000000e+05  1.000000e+05   \n",
       "mean      151.089430              1.241108e+04  1.400524e+09  1.406896e+09   \n",
       "std      1163.024964              1.005545e+05  6.334581e+07  6.340574e+07   \n",
       "min         0.000000              0.000000e+00  1.240366e+09  1.243556e+09   \n",
       "25%         4.000000              1.250000e+02  1.349203e+09  1.357171e+09   \n",
       "50%        28.000000              1.650000e+03  1.408426e+09  1.415244e+09   \n",
       "75%        86.000000              6.271250e+03  1.447206e+09  1.454243e+09   \n",
       "max    105857.000000              1.026684e+07  1.517539e+09  1.518702e+09   \n",
       "\n",
       "             fx_rate          goal   launched_at       pledged   usd_pledged  \n",
       "count  100000.000000  1.000000e+05  1.000000e+05  1.000000e+05  1.000000e+05  \n",
       "mean        1.017654  4.447512e+04  1.403972e+09  1.312485e+04  1.241284e+04  \n",
       "std         0.169773  1.256033e+06  6.360489e+07  1.080345e+05  1.005368e+05  \n",
       "min         0.009337  1.000000e-02  1.240674e+09  0.000000e+00  0.000000e+00  \n",
       "25%         1.000000  1.500000e+03  1.354313e+09  1.250000e+02  1.250000e+02  \n",
       "50%         1.000000  5.000000e+03  1.412373e+09  1.635500e+03  1.651000e+03  \n",
       "75%         1.000000  1.200000e+04  1.451252e+09  6.310000e+03  6.275042e+03  \n",
       "max         1.401112  1.000000e+08  1.518037e+09  1.026685e+07  1.026685e+07  "
      ]
     },
     "execution_count": 3,
     "metadata": {},
     "output_type": "execute_result"
    }
   ],
   "source": [
    "df_ks_to_display.describe()"
   ]
  },
  {
   "cell_type": "markdown",
   "metadata": {},
   "source": [
    "We have noticed that the goals of these projects are not using the same currency unit."
   ]
  },
  {
   "cell_type": "markdown",
   "metadata": {},
   "source": [
    "#### Goal"
   ]
  },
  {
   "cell_type": "code",
   "execution_count": 4,
   "metadata": {},
   "outputs": [
    {
     "data": {
      "text/plain": [
       "count    1.000000e+05\n",
       "mean     4.052436e+04\n",
       "std      1.191352e+06\n",
       "min      1.000000e-02\n",
       "25%      1.500000e+03\n",
       "50%      5.000000e+03\n",
       "75%      1.200000e+04\n",
       "max      1.401112e+08\n",
       "Name: usd_goal, dtype: float64"
      ]
     },
     "execution_count": 4,
     "metadata": {},
     "output_type": "execute_result"
    }
   ],
   "source": [
    "df_ks_to_display['usd_goal'] = df_ks_to_display['goal'] * df_ks_to_display['fx_rate']\n",
    "df_ks_to_display['usd_goal'].describe()"
   ]
  },
  {
   "cell_type": "markdown",
   "metadata": {},
   "source": [
    "#### Percentage of Success"
   ]
  },
  {
   "cell_type": "code",
   "execution_count": 5,
   "metadata": {},
   "outputs": [
    {
     "data": {
      "text/plain": [
       "count    100000.000000\n",
       "mean          3.282139\n",
       "std         165.490788\n",
       "min           0.000000\n",
       "25%           0.028995\n",
       "50%           1.017750\n",
       "75%           1.232006\n",
       "max       41535.010000\n",
       "Name: pt_success, dtype: float64"
      ]
     },
     "execution_count": 5,
     "metadata": {},
     "output_type": "execute_result"
    }
   ],
   "source": [
    "df_ks_to_display['pt_success'] = df_ks_to_display['usd_pledged'] / df_ks_to_display['usd_goal']\n",
    "df_ks_to_display['pt_success'].describe()\n"
   ]
  },
  {
   "cell_type": "code",
   "execution_count": 6,
   "metadata": {},
   "outputs": [],
   "source": [
    "#Data is too large to be plotted, the statement below does not work\n",
    "#sns.displot(df_ks_to_display['pt_success'])"
   ]
  },
  {
   "cell_type": "code",
   "execution_count": 7,
   "metadata": {},
   "outputs": [
    {
     "data": {
      "text/plain": [
       "<seaborn.axisgrid.FacetGrid at 0x17152096070>"
      ]
     },
     "execution_count": 7,
     "metadata": {},
     "output_type": "execute_result"
    },
    {
     "data": {
      "image/png": "[encoded data removed]",
      "text/plain": [
       "<Figure size 360x360 with 1 Axes>"
      ]
     },
     "metadata": {
      "needs_background": "light"
     },
     "output_type": "display_data"
    }
   ],
   "source": [
    "#Logarize the percentages of success to plot them\n",
    "df_ks_to_display['log_pt_success'] = np.log(df_ks_to_display['pt_success'])\n",
    "sns.displot(df_ks_to_display['log_pt_success'])"
   ]
  },
  {
   "cell_type": "markdown",
   "metadata": {},
   "source": [
    "#### Promotion Duration"
   ]
  },
  {
   "cell_type": "code",
   "execution_count": 8,
   "metadata": {},
   "outputs": [
    {
     "data": {
      "text/plain": [
       "count    100000.000000\n",
       "mean         33.840738\n",
       "std          12.953758\n",
       "min           1.000000\n",
       "25%          30.000000\n",
       "50%          30.000000\n",
       "75%          36.000000\n",
       "max          91.958333\n",
       "Name: promotion_duration, dtype: float64"
      ]
     },
     "execution_count": 8,
     "metadata": {},
     "output_type": "execute_result"
    }
   ],
   "source": [
    "duration_dis = pd.to_datetime(df_ks_to_display['deadline'], unit='s') - pd.to_datetime(df_ks_to_display['launched_at'], unit='s')\n",
    "\n",
    "# translate the yyyy-mm-dd format to int\n",
    "df_ks_to_display['promotion_duration'] = duration_dis / np.timedelta64(1, 'D')\n",
    "\n",
    "df_ks_to_display['promotion_duration'].describe()"
   ]
  },
  {
   "cell_type": "markdown",
   "metadata": {},
   "source": [
    "### Missing Data and Outlier Detection"
   ]
  },
  {
   "cell_type": "markdown",
   "metadata": {},
   "source": [
    "#### **Outlier Detection**"
   ]
  },
  {
   "cell_type": "markdown",
   "metadata": {},
   "source": [
    "**pt_success outliers**"
   ]
  },
  {
   "cell_type": "code",
   "execution_count": 9,
   "metadata": {},
   "outputs": [
    {
     "name": "stdout",
     "output_type": "stream",
     "text": [
      "      project_id  backers_count  \\\n",
      "7      KS_000007            479   \n",
      "70     KS_000070            141   \n",
      "97     KS_000097            678   \n",
      "100    KS_000100            139   \n",
      "145    KS_000145           2040   \n",
      "...          ...            ...   \n",
      "98956  KS_098956             36   \n",
      "98959  KS_098959            331   \n",
      "99095  KS_099095             21   \n",
      "99472  KS_099472             44   \n",
      "99990  KS_099990             59   \n",
      "\n",
      "                                                   blurb    category  \\\n",
      "7      Portrait artist seeks funds to kickstart an ex...         art   \n",
      "70     \"Cities of You\" envisions people as imaginary ...         art   \n",
      "97     Hand-made screenprints & t-shirts about the be...         art   \n",
      "100    Getting caught up in trying to please others w...         art   \n",
      "145    It might be the worlds first ever podcast rele...         art   \n",
      "...                                                  ...         ...   \n",
      "98956  Machine Learning can now be done in the web br...  technology   \n",
      "98959  From Zero to Full-Stack Engineer. Build Web Ap...  technology   \n",
      "99095  We are creating a one night business school ex...     theater   \n",
      "99472  Multi-award winning, original musical highligh...     theater   \n",
      "99990  Help the hosts of the infamous St. Michael sus...     theater   \n",
      "\n",
      "       converted_pledged_amount country  created_at currency    deadline  \\\n",
      "7                         62736      US  1331325438      USD  1335671940   \n",
      "70                        11000      US  1327362781      USD  1329973140   \n",
      "97                        32000      US  1323732306      USD  1328857140   \n",
      "100                        2006      US  1326059889      USD  1328818755   \n",
      "145                       61218      US  1323199356      USD  1325945879   \n",
      "...                         ...     ...         ...      ...         ...   \n",
      "98956                       342      CA  1508213319      CAD  1512657717   \n",
      "98959                     21349      AU  1514929903      AUD  1518181200   \n",
      "99095                       842      US  1427351151      USD  1428303540   \n",
      "99472                      1773      GB  1437931275      GBP  1445990400   \n",
      "99990                      2215      GB  1409561898      GBP  1412335772   \n",
      "\n",
      "        fx_rate  ...   usd_pledged            location funded   subcategory  \\\n",
      "7      1.000000  ...  62736.010000     New Britain, CT   True      painting   \n",
      "70     1.000000  ...  11000.000000        New York, NY   True  illustration   \n",
      "97     1.000000  ...  32000.000000         Phoenix, AZ   True  illustration   \n",
      "100    1.000000  ...   2006.030000         Benicia, CA   True   mixed media   \n",
      "145    1.000000  ...  61218.090000        Red Bank, NJ   True   mixed media   \n",
      "...         ...  ...           ...                 ...    ...           ...   \n",
      "98956  0.795439  ...    341.261625  Abbotsford, Canada   True           web   \n",
      "98959  0.787630  ...  21549.699942        Brisbane, AU   True           web   \n",
      "99095  1.000000  ...    842.000000       Palo Alto, CA   True     immersive   \n",
      "99472  1.389543  ...   1781.711766         Cardiff, UK   True       musical   \n",
      "99990  1.389543  ...   2277.788560          London, UK   True        spaces   \n",
      "\n",
      "                                             project_url  \\\n",
      "7      https://www.kickstarter.com/projects/michaelsh...   \n",
      "70     https://www.kickstarter.com/projects/youaremyj...   \n",
      "97     https://www.kickstarter.com/projects/safwat/oh...   \n",
      "100    https://www.kickstarter.com/projects/lorrimari...   \n",
      "145    https://www.kickstarter.com/projects/150761674...   \n",
      "...                                                  ...   \n",
      "98956  https://www.kickstarter.com/projects/rocksetta...   \n",
      "98959  https://www.kickstarter.com/projects/pablofari...   \n",
      "99095  https://www.kickstarter.com/projects/954514137...   \n",
      "99472  https://www.kickstarter.com/projects/118699874...   \n",
      "99990  https://www.kickstarter.com/projects/617004672...   \n",
      "\n",
      "                                              reward_url      usd_goal  \\\n",
      "7      https://www.kickstarter.com/projects/michaelsh...  10000.000000   \n",
      "70     https://www.kickstarter.com/projects/youaremyj...   2000.000000   \n",
      "97     https://www.kickstarter.com/projects/safwat/oh...   3000.000000   \n",
      "100    https://www.kickstarter.com/projects/lorrimari...    300.000000   \n",
      "145    https://www.kickstarter.com/projects/150761674...   6500.000000   \n",
      "...                                                  ...           ...   \n",
      "98956  https://www.kickstarter.com/projects/rocksetta...      0.795439   \n",
      "98959  https://www.kickstarter.com/projects/pablofari...    393.814900   \n",
      "99095  https://www.kickstarter.com/projects/954514137...    100.000000   \n",
      "99472  https://www.kickstarter.com/projects/118699874...      1.389543   \n",
      "99990  https://www.kickstarter.com/projects/617004672...    416.862939   \n",
      "\n",
      "        pt_success log_pt_success promotion_duration  \n",
      "7         6.273601       1.836351          32.976076  \n",
      "70        5.500000       1.704748          30.012106  \n",
      "97       10.666667       2.367124          31.677859  \n",
      "100       6.686767       1.900130          30.000000  \n",
      "145       9.418168       2.242641          30.000000  \n",
      "...            ...            ...                ...  \n",
      "98956   429.023192       6.061511          36.041667  \n",
      "98959    54.720377       4.002236          29.906620  \n",
      "99095     8.420000       2.130610          10.513993  \n",
      "99472  1282.228474       7.156355          59.491493  \n",
      "99990     5.464119       1.698203          30.000000  \n",
      "\n",
      "[3189 rows x 25 columns]\n"
     ]
    }
   ],
   "source": [
    "outliers = df_ks_to_display.loc[df_ks_to_display['pt_success'] > 5]\n",
    "print(outliers)"
   ]
  },
  {
   "cell_type": "markdown",
   "metadata": {},
   "source": [
    "**Typical Extreme case**\n",
    "\n",
    "```\n",
    "index = 54553\n",
    "goal = 1\n",
    "pledged = 41535\n",
    "category = game\n",
    "```"
   ]
  },
  {
   "cell_type": "markdown",
   "metadata": {},
   "source": [
    "**Kill outliers**"
   ]
  },
  {
   "cell_type": "code",
   "execution_count": null,
   "metadata": {},
   "outputs": [],
   "source": [
    "df_ks_to_display.drop(outliers, inplace=True)"
   ]
  },
  {
   "cell_type": "markdown",
   "metadata": {},
   "source": [
    "**Check new data**"
   ]
  },
  {
   "cell_type": "code",
   "execution_count": null,
   "metadata": {},
   "outputs": [],
   "source": [
    "df_ks_to_display['pt_success'].describe()"
   ]
  },
  {
   "cell_type": "markdown",
   "metadata": {},
   "source": [
    "#### Clear invalid data"
   ]
  },
  {
   "cell_type": "code",
   "execution_count": 10,
   "metadata": {},
   "outputs": [
    {
     "name": "stdout",
     "output_type": "stream",
     "text": [
      "backers_count               0\n",
      "converted_pledged_amount    0\n",
      "promotion_duration          0\n",
      "usd_goal                    0\n",
      "staff_pick                  0\n",
      "pt_success                  0\n",
      "dtype: int64\n"
     ]
    }
   ],
   "source": [
    "hm_features = ['backers_count', 'converted_pledged_amount','promotion_duration','usd_goal', 'staff_pick','pt_success',]\n",
    "nulls = df_ks_to_display[hm_features].isnull().sum()\n",
    "print(nulls)"
   ]
  },
  {
   "cell_type": "markdown",
   "metadata": {},
   "source": [
    "### Explore other features"
   ]
  },
  {
   "cell_type": "markdown",
   "metadata": {},
   "source": [
    "#### **Category**"
   ]
  },
  {
   "cell_type": "markdown",
   "metadata": {},
   "source": [
    "**A boxplot for the percentages of success versus the categories**"
   ]
  },
  {
   "cell_type": "code",
   "execution_count": 11,
   "metadata": {},
   "outputs": [
    {
     "data": {
      "text/plain": [
       "<AxesSubplot:xlabel='pt_success', ylabel='category'>"
      ]
     },
     "execution_count": 11,
     "metadata": {},
     "output_type": "execute_result"
    },
    {
     "data": {
      "image/png": "[encoded data removed]",
      "text/plain": [
       "<Figure size 1152x576 with 1 Axes>"
      ]
     },
     "metadata": {
      "needs_background": "light"
     },
     "output_type": "display_data"
    }
   ],
   "source": [
    "sns.boxplot(df_ks_to_display['pt_success'], df_ks_to_display['category'])"
   ]
  },
  {
   "cell_type": "markdown",
   "metadata": {},
   "source": [
    "**Logarize pt_success for better visual effect**"
   ]
  },
  {
   "cell_type": "code",
   "execution_count": null,
   "metadata": {},
   "outputs": [],
   "source": [
    "sns.boxplot(df_ks_to_display['log_pt_success'], df_ks_to_display['category'])"
   ]
  },
  {
   "cell_type": "markdown",
   "metadata": {},
   "source": [
    "#### Sub-catetory"
   ]
  },
  {
   "cell_type": "code",
   "execution_count": 12,
   "metadata": {},
   "outputs": [
    {
     "data": {
      "text/plain": [
       "count     100000\n",
       "unique       158\n",
       "top          web\n",
       "freq        2302\n",
       "Name: subcategory, dtype: object"
      ]
     },
     "execution_count": 12,
     "metadata": {},
     "output_type": "execute_result"
    }
   ],
   "source": [
    "df_ks_to_display['subcategory'].describe()"
   ]
  },
  {
   "cell_type": "markdown",
   "metadata": {},
   "source": [
    "**The ten most frequently occurring subcategories**"
   ]
  },
  {
   "cell_type": "code",
   "execution_count": 13,
   "metadata": {},
   "outputs": [
    {
     "name": "stdout",
     "output_type": "stream",
     "text": [
      "Index(['web', 'product design', 'shorts', 'documentary', 'hardware',\n",
      "       'indie rock', 'nonfiction', 'fiction', 'rock', 'mixed media'],\n",
      "      dtype='object')\n"
     ]
    }
   ],
   "source": [
    "n = 10\n",
    "sc_top_10 = df_ks_to_display['subcategory'].value_counts()[:n].index\n",
    "print(sc_top_10)"
   ]
  },
  {
   "cell_type": "markdown",
   "metadata": {},
   "source": [
    "**A boxplot for the logarithms of percentages of success versus the top ten subcategories**"
   ]
  },
  {
   "cell_type": "code",
   "execution_count": 14,
   "metadata": {},
   "outputs": [
    {
     "data": {
      "text/plain": [
       "<AxesSubplot:xlabel='log_pt_success', ylabel='subcategory'>"
      ]
     },
     "execution_count": 14,
     "metadata": {},
     "output_type": "execute_result"
    },
    {
     "data": {
      "image/png": "[encoded data removed]",
      "text/plain": [
       "<Figure size 1152x576 with 1 Axes>"
      ]
     },
     "metadata": {
      "needs_background": "light"
     },
     "output_type": "display_data"
    }
   ],
   "source": [
    "top_scs = df_ks_to_display.loc[df_ks_to_display['subcategory'].isin(sc_top_10)]\n",
    "sns.boxplot(top_scs['log_pt_success'], top_scs['subcategory'])"
   ]
  },
  {
   "cell_type": "markdown",
   "metadata": {},
   "source": [
    "#### **Country**"
   ]
  },
  {
   "cell_type": "code",
   "execution_count": 15,
   "metadata": {},
   "outputs": [
    {
     "data": {
      "text/plain": [
       "count     99997\n",
       "unique      174\n",
       "top          US\n",
       "freq      76716\n",
       "Name: country, dtype: object"
      ]
     },
     "execution_count": 15,
     "metadata": {},
     "output_type": "execute_result"
    }
   ],
   "source": [
    "df_ks_to_display['country'].describe()"
   ]
  },
  {
   "cell_type": "markdown",
   "metadata": {},
   "source": [
    "**Top 10 countries**"
   ]
  },
  {
   "cell_type": "code",
   "execution_count": 16,
   "metadata": {},
   "outputs": [
    {
     "name": "stdout",
     "output_type": "stream",
     "text": [
      "Index(['US', 'GB', 'CA', 'AU', 'DE', 'FR', '?', 'NL', 'IT', 'ES'], dtype='object')\n"
     ]
    }
   ],
   "source": [
    "n = 10\n",
    "top_10 = df_ks_to_display['country'].value_counts()[:n].index\n",
    "print(top_10)"
   ]
  },
  {
   "cell_type": "markdown",
   "metadata": {},
   "source": [
    "**Select top 10 countries records**"
   ]
  },
  {
   "cell_type": "code",
   "execution_count": 17,
   "metadata": {},
   "outputs": [
    {
     "name": "stdout",
     "output_type": "stream",
     "text": [
      "      project_id  backers_count  \\\n",
      "0      KS_000000             80   \n",
      "1      KS_000001             82   \n",
      "2      KS_000002             21   \n",
      "3      KS_000003             37   \n",
      "4      KS_000004            153   \n",
      "...          ...            ...   \n",
      "99995  KS_099995            104   \n",
      "99996  KS_099996            307   \n",
      "99997  KS_099997            143   \n",
      "99998  KS_099998            329   \n",
      "99999  KS_099999            145   \n",
      "\n",
      "                                                   blurb category  \\\n",
      "0      I will be an artist-in-residence at Elsewhere ...      art   \n",
      "1      1000 Artists is a public art-making installati...      art   \n",
      "2      The Sequel to ‘My Favorite Machine”, \"MyPhoneH...      art   \n",
      "3      A film exploring the role and value of art edu...      art   \n",
      "4      We need to build a kitchen for Habitable Space...      art   \n",
      "...                                                  ...      ...   \n",
      "99995  Make the workshop/ small stage space at Jimmy'...  theater   \n",
      "99996  Help create a permanent home for live comedy s...  theater   \n",
      "99997  Voix de Ville is a pop-up imaginarium of neo-v...  theater   \n",
      "99998  Help Synetic Theater create a new Studio to pr...  theater   \n",
      "99999  Be part of building Cardiff's first pub theatr...  theater   \n",
      "\n",
      "       converted_pledged_amount country  created_at currency    deadline  \\\n",
      "0                          3596      US  1325980505      USD  1334866560   \n",
      "1                          4586      US  1330926084      USD  1336440145   \n",
      "2                          5217      US  1332382894      USD  1338175739   \n",
      "3                          7160      GB  1332342451      USD  1334806096   \n",
      "4                         15445      US  1328562617      USD  1335584240   \n",
      "...                         ...     ...         ...      ...         ...   \n",
      "99995                      7595      US  1348677893      USD  1356552252   \n",
      "99996                     27196      US  1364939099      USD  1367674009   \n",
      "99997                      7226      US  1366078694      USD  1373738400   \n",
      "99998                     31683      US  1372177000      USD  1376654340   \n",
      "99999                     12639      GB  1398597170      GBP  1401465600   \n",
      "\n",
      "        fx_rate  ...   usd_pledged        location funded  subcategory  \\\n",
      "0      1.000000  ...   3596.000000      Paonia, CO   True  mixed media   \n",
      "1      1.000000  ...   4586.000000  Washington, DC   True   public art   \n",
      "2      1.000000  ...   5217.000000      Frisco, TX   True    sculpture   \n",
      "3      1.000000  ...   7160.000000     Glasgow, UK   True          art   \n",
      "4      1.000000  ...  15445.000000   Kingsbury, TX   True   public art   \n",
      "...         ...  ...           ...             ...    ...          ...   \n",
      "99995  1.000000  ...   7595.430000    New York, NY   True       spaces   \n",
      "99996  1.000000  ...  27196.710000    Richmond, VA   True       spaces   \n",
      "99997  1.000000  ...   7226.000000   Cleveland, OH   True       spaces   \n",
      "99998  1.000000  ...  31683.000000   Arlington, VA   True       spaces   \n",
      "99999  1.389543  ...  12753.401034     Cardiff, UK   True       spaces   \n",
      "\n",
      "                                             project_url  \\\n",
      "0      https://www.kickstarter.com/projects/hilaryeme...   \n",
      "1      https://www.kickstarter.com/projects/17146650/...   \n",
      "2      https://www.kickstarter.com/projects/belveal/m...   \n",
      "3      https://www.kickstarter.com/projects/107813091...   \n",
      "4      https://www.kickstarter.com/projects/104409276...   \n",
      "...                                                  ...   \n",
      "99995  https://www.kickstarter.com/projects/jimmycarb...   \n",
      "99996  https://www.kickstarter.com/projects/rvacomedy...   \n",
      "99997  https://www.kickstarter.com/projects/160171209...   \n",
      "99998  https://www.kickstarter.com/projects/967829854...   \n",
      "99999  https://www.kickstarter.com/projects/159603433...   \n",
      "\n",
      "                                              reward_url      usd_goal  \\\n",
      "0      https://www.kickstarter.com/projects/hilaryeme...   2800.000000   \n",
      "1      https://www.kickstarter.com/projects/17146650/...   4500.000000   \n",
      "2      https://www.kickstarter.com/projects/belveal/m...   5000.000000   \n",
      "3      https://www.kickstarter.com/projects/107813091...   6500.000000   \n",
      "4      https://www.kickstarter.com/projects/104409276...  15000.000000   \n",
      "...                                                  ...           ...   \n",
      "99995  https://www.kickstarter.com/projects/jimmycarb...   7000.000000   \n",
      "99996  https://www.kickstarter.com/projects/rvacomedy...  25000.000000   \n",
      "99997  https://www.kickstarter.com/projects/160171209...   5500.000000   \n",
      "99998  https://www.kickstarter.com/projects/967829854...  25000.000000   \n",
      "99999  https://www.kickstarter.com/projects/159603433...   3473.857825   \n",
      "\n",
      "       pt_success log_pt_success promotion_duration  \n",
      "0        1.284286       0.250203          21.959491  \n",
      "1        1.019111       0.018931          40.000000  \n",
      "2        1.043400       0.042485          60.000000  \n",
      "3        1.101538       0.096708          21.000000  \n",
      "4        1.029667       0.029235          30.000000  \n",
      "...           ...            ...                ...  \n",
      "99995    1.085061       0.081637          30.000000  \n",
      "99996    1.087868       0.084220          30.000000  \n",
      "99997    1.313818       0.272938          36.687963  \n",
      "99998    1.267320       0.236904          35.714074  \n",
      "99999    3.671250       1.300532          28.157257  \n",
      "\n",
      "[94406 rows x 25 columns]\n"
     ]
    }
   ],
   "source": [
    "tops = df_ks_to_display.loc[df_ks_to_display['country'].isin(top_10)]\n",
    "print(tops)"
   ]
  },
  {
   "cell_type": "markdown",
   "metadata": {},
   "source": [
    "**A boxplot for the percentages of success versus the top ten countries**"
   ]
  },
  {
   "cell_type": "code",
   "execution_count": 18,
   "metadata": {},
   "outputs": [
    {
     "data": {
      "text/plain": [
       "<AxesSubplot:xlabel='pt_success', ylabel='country'>"
      ]
     },
     "execution_count": 18,
     "metadata": {},
     "output_type": "execute_result"
    },
    {
     "data": {
      "image/png": "[encoded data removed]",
      "text/plain": [
       "<Figure size 1152x576 with 1 Axes>"
      ]
     },
     "metadata": {
      "needs_background": "light"
     },
     "output_type": "display_data"
    }
   ],
   "source": [
    "sns.boxplot(tops['pt_success'], tops['country'])"
   ]
  },
  {
   "cell_type": "markdown",
   "metadata": {},
   "source": [
    "**A boxplot for the logarithms of percentages of success versus the top ten countries**"
   ]
  },
  {
   "cell_type": "code",
   "execution_count": 19,
   "metadata": {},
   "outputs": [
    {
     "data": {
      "text/plain": [
       "<AxesSubplot:xlabel='log_pt_success', ylabel='country'>"
      ]
     },
     "execution_count": 19,
     "metadata": {},
     "output_type": "execute_result"
    },
    {
     "data": {
      "image/png": "[encoded data removed]",
      "text/plain": [
       "<Figure size 1152x576 with 1 Axes>"
      ]
     },
     "metadata": {
      "needs_background": "light"
     },
     "output_type": "display_data"
    }
   ],
   "source": [
    "sns.boxplot(tops['log_pt_success'], tops['country'])"
   ]
  },
  {
   "cell_type": "markdown",
   "metadata": {},
   "source": [
    "#### Count Blurb length"
   ]
  },
  {
   "cell_type": "code",
   "execution_count": 20,
   "metadata": {},
   "outputs": [],
   "source": [
    "df_ks_to_display['blurb_length'] = df_ks_to_display['blurb'].str.len()"
   ]
  },
  {
   "cell_type": "code",
   "execution_count": 21,
   "metadata": {},
   "outputs": [
    {
     "data": {
      "text/plain": [
       "count    99998.000000\n",
       "mean       115.143353\n",
       "std         24.758182\n",
       "min          1.000000\n",
       "25%        106.000000\n",
       "50%        125.000000\n",
       "75%        133.000000\n",
       "max        152.000000\n",
       "Name: blurb_length, dtype: float64"
      ]
     },
     "execution_count": 21,
     "metadata": {},
     "output_type": "execute_result"
    }
   ],
   "source": [
    "df_ks_to_display['blurb_length'].describe()"
   ]
  },
  {
   "cell_type": "code",
   "execution_count": 22,
   "metadata": {},
   "outputs": [],
   "source": [
    "# Cannot be plotted\n",
    "# sns.boxplot(df_ks_to_display['log_pt_success'], df_ks_to_display['blurb_length'])"
   ]
  },
  {
   "cell_type": "markdown",
   "metadata": {},
   "source": [
    "#### **HeatMap**"
   ]
  },
  {
   "cell_type": "code",
   "execution_count": 23,
   "metadata": {},
   "outputs": [
    {
     "data": {
      "text/plain": [
       "<AxesSubplot:>"
      ]
     },
     "execution_count": 23,
     "metadata": {},
     "output_type": "execute_result"
    },
    {
     "data": {
      "image/png": "[encoded data removed]",
      "text/plain": [
       "<Figure size 1152x576 with 2 Axes>"
      ]
     },
     "metadata": {
      "needs_background": "light"
     },
     "output_type": "display_data"
    }
   ],
   "source": [
    "corrmat_all = df_ks_to_display[hm_features].corr()\n",
    "sns.heatmap(corrmat_all,square=True, annot=True)"
   ]
  },
  {
   "cell_type": "markdown",
   "metadata": {},
   "source": [
    "**Logarize the converted goal to plot the heatmap**"
   ]
  },
  {
   "cell_type": "code",
   "execution_count": 24,
   "metadata": {},
   "outputs": [],
   "source": [
    "df_ks_to_display['log_usd_goal'] = np.log(df_ks_to_display['usd_goal'])"
   ]
  },
  {
   "cell_type": "code",
   "execution_count": 25,
   "metadata": {},
   "outputs": [],
   "source": [
    "hm_features = ['blurb_length','promotion_duration','log_usd_goal', 'staff_pick','log_pt_success']"
   ]
  },
  {
   "cell_type": "code",
   "execution_count": 26,
   "metadata": {},
   "outputs": [
    {
     "data": {
      "text/plain": [
       "<AxesSubplot:>"
      ]
     },
     "execution_count": 26,
     "metadata": {},
     "output_type": "execute_result"
    },
    {
     "data": {
      "image/png": "[encoded data removed]",
      "text/plain": [
       "<Figure size 1152x576 with 2 Axes>"
      ]
     },
     "metadata": {
      "needs_background": "light"
     },
     "output_type": "display_data"
    }
   ],
   "source": [
    "corrmat_all = df_ks_to_display[hm_features].corr()\n",
    "sns.heatmap(corrmat_all,square=True, annot=True)"
   ]
  }
 ],
 "metadata": {
  "interpreter": {
   "hash": "146b342b29bae54887cd1361f34d99654b817b55b3d414686d503d810f0a427c"
  },
  "kernelspec": {
   "display_name": "Python 3.9.6 64-bit ('base': conda)",
   "name": "python3"
  },
  "language_info": {
   "codemirror_mode": {
    "name": "ipython",
    "version": 3
   },
   "file_extension": ".py",
   "mimetype": "text/x-python",
   "name": "python",
   "nbconvert_exporter": "python",
   "pygments_lexer": "ipython3",
   "version": "3.9.6"
  },
  "orig_nbformat": 4
 },
 "nbformat": 4,
 "nbformat_minor": 2
}
