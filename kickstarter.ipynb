{
 "cells": [
  {
   "cell_type": "markdown",
   "source": [
    "## Strandard Import"
   ],
   "metadata": {}
  },
  {
   "cell_type": "code",
   "execution_count": 1,
   "source": [
    "import pandas as pd\r\n",
    "import seaborn as sns\r\n",
    "import numpy as np\r\n",
    "\r\n",
    "import matplotlib.pyplot as plt\r\n",
    "%matplotlib inline\r\n",
    "\r\n",
    "from matplotlib.pylab import rcParams\r\n",
    "rcParams['figure.figsize'] = 16, 8\r\n",
    "\r\n",
    "from scipy.stats import norm\r\n",
    "from scipy import stats\r\n",
    "\r\n",
    "from sklearn.preprocessing import StandardScaler\r\n",
    "from sklearn.model_selection import train_test_split\r\n",
    "from sklearn.feature_extraction.text import TfidfVectorizer\r\n",
    "from sklearn.feature_extraction.text import CountVectorizer\r\n",
    "from sklearn.linear_model import LinearRegression\r\n",
    "\r\n",
    "import warnings\r\n",
    "warnings.filterwarnings('ignore')"
   ],
   "outputs": [],
   "metadata": {}
  },
  {
   "cell_type": "markdown",
   "source": [
    "## Explore Data"
   ],
   "metadata": {}
  },
  {
   "cell_type": "code",
   "execution_count": 2,
   "source": [
    "data_ks_train = pd.read_csv('KS_train_data.csv', delimiter= ',')\r\n",
    "data_ks_test = pd.read_csv('KS_test_data.csv', delimiter= ';')"
   ],
   "outputs": [],
   "metadata": {}
  },
  {
   "cell_type": "markdown",
   "source": [
    "### Describe Data"
   ],
   "metadata": {}
  },
  {
   "cell_type": "code",
   "execution_count": 3,
   "source": [
    "data_ks_train.describe()"
   ],
   "outputs": [
    {
     "output_type": "execute_result",
     "data": {
      "text/html": [
       "<div>\n",
       "<style scoped>\n",
       "    .dataframe tbody tr th:only-of-type {\n",
       "        vertical-align: middle;\n",
       "    }\n",
       "\n",
       "    .dataframe tbody tr th {\n",
       "        vertical-align: top;\n",
       "    }\n",
       "\n",
       "    .dataframe thead th {\n",
       "        text-align: right;\n",
       "    }\n",
       "</style>\n",
       "<table border=\"1\" class=\"dataframe\">\n",
       "  <thead>\n",
       "    <tr style=\"text-align: right;\">\n",
       "      <th></th>\n",
       "      <th>backers_count</th>\n",
       "      <th>converted_pledged_amount</th>\n",
       "      <th>created_at</th>\n",
       "      <th>deadline</th>\n",
       "      <th>fx_rate</th>\n",
       "      <th>goal</th>\n",
       "      <th>launched_at</th>\n",
       "      <th>pledged</th>\n",
       "      <th>usd_pledged</th>\n",
       "    </tr>\n",
       "  </thead>\n",
       "  <tbody>\n",
       "    <tr>\n",
       "      <th>count</th>\n",
       "      <td>100000.000000</td>\n",
       "      <td>1.000000e+05</td>\n",
       "      <td>1.000000e+05</td>\n",
       "      <td>1.000000e+05</td>\n",
       "      <td>100000.000000</td>\n",
       "      <td>1.000000e+05</td>\n",
       "      <td>1.000000e+05</td>\n",
       "      <td>1.000000e+05</td>\n",
       "      <td>1.000000e+05</td>\n",
       "    </tr>\n",
       "    <tr>\n",
       "      <th>mean</th>\n",
       "      <td>151.089430</td>\n",
       "      <td>1.241108e+04</td>\n",
       "      <td>1.400524e+09</td>\n",
       "      <td>1.406896e+09</td>\n",
       "      <td>1.017654</td>\n",
       "      <td>4.447512e+04</td>\n",
       "      <td>1.403972e+09</td>\n",
       "      <td>1.312485e+04</td>\n",
       "      <td>1.241284e+04</td>\n",
       "    </tr>\n",
       "    <tr>\n",
       "      <th>std</th>\n",
       "      <td>1163.024964</td>\n",
       "      <td>1.005545e+05</td>\n",
       "      <td>6.334581e+07</td>\n",
       "      <td>6.340574e+07</td>\n",
       "      <td>0.169773</td>\n",
       "      <td>1.256033e+06</td>\n",
       "      <td>6.360489e+07</td>\n",
       "      <td>1.080345e+05</td>\n",
       "      <td>1.005368e+05</td>\n",
       "    </tr>\n",
       "    <tr>\n",
       "      <th>min</th>\n",
       "      <td>0.000000</td>\n",
       "      <td>0.000000e+00</td>\n",
       "      <td>1.240366e+09</td>\n",
       "      <td>1.243556e+09</td>\n",
       "      <td>0.009337</td>\n",
       "      <td>1.000000e-02</td>\n",
       "      <td>1.240674e+09</td>\n",
       "      <td>0.000000e+00</td>\n",
       "      <td>0.000000e+00</td>\n",
       "    </tr>\n",
       "    <tr>\n",
       "      <th>25%</th>\n",
       "      <td>4.000000</td>\n",
       "      <td>1.250000e+02</td>\n",
       "      <td>1.349203e+09</td>\n",
       "      <td>1.357171e+09</td>\n",
       "      <td>1.000000</td>\n",
       "      <td>1.500000e+03</td>\n",
       "      <td>1.354313e+09</td>\n",
       "      <td>1.250000e+02</td>\n",
       "      <td>1.250000e+02</td>\n",
       "    </tr>\n",
       "    <tr>\n",
       "      <th>50%</th>\n",
       "      <td>28.000000</td>\n",
       "      <td>1.650000e+03</td>\n",
       "      <td>1.408426e+09</td>\n",
       "      <td>1.415244e+09</td>\n",
       "      <td>1.000000</td>\n",
       "      <td>5.000000e+03</td>\n",
       "      <td>1.412373e+09</td>\n",
       "      <td>1.635500e+03</td>\n",
       "      <td>1.651000e+03</td>\n",
       "    </tr>\n",
       "    <tr>\n",
       "      <th>75%</th>\n",
       "      <td>86.000000</td>\n",
       "      <td>6.271250e+03</td>\n",
       "      <td>1.447206e+09</td>\n",
       "      <td>1.454243e+09</td>\n",
       "      <td>1.000000</td>\n",
       "      <td>1.200000e+04</td>\n",
       "      <td>1.451252e+09</td>\n",
       "      <td>6.310000e+03</td>\n",
       "      <td>6.275042e+03</td>\n",
       "    </tr>\n",
       "    <tr>\n",
       "      <th>max</th>\n",
       "      <td>105857.000000</td>\n",
       "      <td>1.026684e+07</td>\n",
       "      <td>1.517539e+09</td>\n",
       "      <td>1.518702e+09</td>\n",
       "      <td>1.401112</td>\n",
       "      <td>1.000000e+08</td>\n",
       "      <td>1.518037e+09</td>\n",
       "      <td>1.026685e+07</td>\n",
       "      <td>1.026685e+07</td>\n",
       "    </tr>\n",
       "  </tbody>\n",
       "</table>\n",
       "</div>"
      ],
      "text/plain": [
       "       backers_count  converted_pledged_amount    created_at      deadline  \\\n",
       "count  100000.000000              1.000000e+05  1.000000e+05  1.000000e+05   \n",
       "mean      151.089430              1.241108e+04  1.400524e+09  1.406896e+09   \n",
       "std      1163.024964              1.005545e+05  6.334581e+07  6.340574e+07   \n",
       "min         0.000000              0.000000e+00  1.240366e+09  1.243556e+09   \n",
       "25%         4.000000              1.250000e+02  1.349203e+09  1.357171e+09   \n",
       "50%        28.000000              1.650000e+03  1.408426e+09  1.415244e+09   \n",
       "75%        86.000000              6.271250e+03  1.447206e+09  1.454243e+09   \n",
       "max    105857.000000              1.026684e+07  1.517539e+09  1.518702e+09   \n",
       "\n",
       "             fx_rate          goal   launched_at       pledged   usd_pledged  \n",
       "count  100000.000000  1.000000e+05  1.000000e+05  1.000000e+05  1.000000e+05  \n",
       "mean        1.017654  4.447512e+04  1.403972e+09  1.312485e+04  1.241284e+04  \n",
       "std         0.169773  1.256033e+06  6.360489e+07  1.080345e+05  1.005368e+05  \n",
       "min         0.009337  1.000000e-02  1.240674e+09  0.000000e+00  0.000000e+00  \n",
       "25%         1.000000  1.500000e+03  1.354313e+09  1.250000e+02  1.250000e+02  \n",
       "50%         1.000000  5.000000e+03  1.412373e+09  1.635500e+03  1.651000e+03  \n",
       "75%         1.000000  1.200000e+04  1.451252e+09  6.310000e+03  6.275042e+03  \n",
       "max         1.401112  1.000000e+08  1.518037e+09  1.026685e+07  1.026685e+07  "
      ]
     },
     "metadata": {},
     "execution_count": 3
    }
   ],
   "metadata": {}
  },
  {
   "cell_type": "markdown",
   "source": [
    "### Data Process"
   ],
   "metadata": {}
  },
  {
   "cell_type": "markdown",
   "source": [
    "[goal] => USD_goal"
   ],
   "metadata": {}
  },
  {
   "cell_type": "code",
   "execution_count": 4,
   "source": [
    "df_ks = data_ks_train\r\n",
    "df_ks['usd_goal'] = df_ks['goal'] * df_ks['fx_rate']\r\n",
    "df_ks.describe()"
   ],
   "outputs": [
    {
     "output_type": "execute_result",
     "data": {
      "text/html": [
       "<div>\n",
       "<style scoped>\n",
       "    .dataframe tbody tr th:only-of-type {\n",
       "        vertical-align: middle;\n",
       "    }\n",
       "\n",
       "    .dataframe tbody tr th {\n",
       "        vertical-align: top;\n",
       "    }\n",
       "\n",
       "    .dataframe thead th {\n",
       "        text-align: right;\n",
       "    }\n",
       "</style>\n",
       "<table border=\"1\" class=\"dataframe\">\n",
       "  <thead>\n",
       "    <tr style=\"text-align: right;\">\n",
       "      <th></th>\n",
       "      <th>backers_count</th>\n",
       "      <th>converted_pledged_amount</th>\n",
       "      <th>created_at</th>\n",
       "      <th>deadline</th>\n",
       "      <th>fx_rate</th>\n",
       "      <th>goal</th>\n",
       "      <th>launched_at</th>\n",
       "      <th>pledged</th>\n",
       "      <th>usd_pledged</th>\n",
       "      <th>usd_goal</th>\n",
       "    </tr>\n",
       "  </thead>\n",
       "  <tbody>\n",
       "    <tr>\n",
       "      <th>count</th>\n",
       "      <td>100000.000000</td>\n",
       "      <td>1.000000e+05</td>\n",
       "      <td>1.000000e+05</td>\n",
       "      <td>1.000000e+05</td>\n",
       "      <td>100000.000000</td>\n",
       "      <td>1.000000e+05</td>\n",
       "      <td>1.000000e+05</td>\n",
       "      <td>1.000000e+05</td>\n",
       "      <td>1.000000e+05</td>\n",
       "      <td>1.000000e+05</td>\n",
       "    </tr>\n",
       "    <tr>\n",
       "      <th>mean</th>\n",
       "      <td>151.089430</td>\n",
       "      <td>1.241108e+04</td>\n",
       "      <td>1.400524e+09</td>\n",
       "      <td>1.406896e+09</td>\n",
       "      <td>1.017654</td>\n",
       "      <td>4.447512e+04</td>\n",
       "      <td>1.403972e+09</td>\n",
       "      <td>1.312485e+04</td>\n",
       "      <td>1.241284e+04</td>\n",
       "      <td>4.052436e+04</td>\n",
       "    </tr>\n",
       "    <tr>\n",
       "      <th>std</th>\n",
       "      <td>1163.024964</td>\n",
       "      <td>1.005545e+05</td>\n",
       "      <td>6.334581e+07</td>\n",
       "      <td>6.340574e+07</td>\n",
       "      <td>0.169773</td>\n",
       "      <td>1.256033e+06</td>\n",
       "      <td>6.360489e+07</td>\n",
       "      <td>1.080345e+05</td>\n",
       "      <td>1.005368e+05</td>\n",
       "      <td>1.191352e+06</td>\n",
       "    </tr>\n",
       "    <tr>\n",
       "      <th>min</th>\n",
       "      <td>0.000000</td>\n",
       "      <td>0.000000e+00</td>\n",
       "      <td>1.240366e+09</td>\n",
       "      <td>1.243556e+09</td>\n",
       "      <td>0.009337</td>\n",
       "      <td>1.000000e-02</td>\n",
       "      <td>1.240674e+09</td>\n",
       "      <td>0.000000e+00</td>\n",
       "      <td>0.000000e+00</td>\n",
       "      <td>1.000000e-02</td>\n",
       "    </tr>\n",
       "    <tr>\n",
       "      <th>25%</th>\n",
       "      <td>4.000000</td>\n",
       "      <td>1.250000e+02</td>\n",
       "      <td>1.349203e+09</td>\n",
       "      <td>1.357171e+09</td>\n",
       "      <td>1.000000</td>\n",
       "      <td>1.500000e+03</td>\n",
       "      <td>1.354313e+09</td>\n",
       "      <td>1.250000e+02</td>\n",
       "      <td>1.250000e+02</td>\n",
       "      <td>1.500000e+03</td>\n",
       "    </tr>\n",
       "    <tr>\n",
       "      <th>50%</th>\n",
       "      <td>28.000000</td>\n",
       "      <td>1.650000e+03</td>\n",
       "      <td>1.408426e+09</td>\n",
       "      <td>1.415244e+09</td>\n",
       "      <td>1.000000</td>\n",
       "      <td>5.000000e+03</td>\n",
       "      <td>1.412373e+09</td>\n",
       "      <td>1.635500e+03</td>\n",
       "      <td>1.651000e+03</td>\n",
       "      <td>5.000000e+03</td>\n",
       "    </tr>\n",
       "    <tr>\n",
       "      <th>75%</th>\n",
       "      <td>86.000000</td>\n",
       "      <td>6.271250e+03</td>\n",
       "      <td>1.447206e+09</td>\n",
       "      <td>1.454243e+09</td>\n",
       "      <td>1.000000</td>\n",
       "      <td>1.200000e+04</td>\n",
       "      <td>1.451252e+09</td>\n",
       "      <td>6.310000e+03</td>\n",
       "      <td>6.275042e+03</td>\n",
       "      <td>1.200000e+04</td>\n",
       "    </tr>\n",
       "    <tr>\n",
       "      <th>max</th>\n",
       "      <td>105857.000000</td>\n",
       "      <td>1.026684e+07</td>\n",
       "      <td>1.517539e+09</td>\n",
       "      <td>1.518702e+09</td>\n",
       "      <td>1.401112</td>\n",
       "      <td>1.000000e+08</td>\n",
       "      <td>1.518037e+09</td>\n",
       "      <td>1.026685e+07</td>\n",
       "      <td>1.026685e+07</td>\n",
       "      <td>1.401112e+08</td>\n",
       "    </tr>\n",
       "  </tbody>\n",
       "</table>\n",
       "</div>"
      ],
      "text/plain": [
       "       backers_count  converted_pledged_amount    created_at      deadline  \\\n",
       "count  100000.000000              1.000000e+05  1.000000e+05  1.000000e+05   \n",
       "mean      151.089430              1.241108e+04  1.400524e+09  1.406896e+09   \n",
       "std      1163.024964              1.005545e+05  6.334581e+07  6.340574e+07   \n",
       "min         0.000000              0.000000e+00  1.240366e+09  1.243556e+09   \n",
       "25%         4.000000              1.250000e+02  1.349203e+09  1.357171e+09   \n",
       "50%        28.000000              1.650000e+03  1.408426e+09  1.415244e+09   \n",
       "75%        86.000000              6.271250e+03  1.447206e+09  1.454243e+09   \n",
       "max    105857.000000              1.026684e+07  1.517539e+09  1.518702e+09   \n",
       "\n",
       "             fx_rate          goal   launched_at       pledged   usd_pledged  \\\n",
       "count  100000.000000  1.000000e+05  1.000000e+05  1.000000e+05  1.000000e+05   \n",
       "mean        1.017654  4.447512e+04  1.403972e+09  1.312485e+04  1.241284e+04   \n",
       "std         0.169773  1.256033e+06  6.360489e+07  1.080345e+05  1.005368e+05   \n",
       "min         0.009337  1.000000e-02  1.240674e+09  0.000000e+00  0.000000e+00   \n",
       "25%         1.000000  1.500000e+03  1.354313e+09  1.250000e+02  1.250000e+02   \n",
       "50%         1.000000  5.000000e+03  1.412373e+09  1.635500e+03  1.651000e+03   \n",
       "75%         1.000000  1.200000e+04  1.451252e+09  6.310000e+03  6.275042e+03   \n",
       "max         1.401112  1.000000e+08  1.518037e+09  1.026685e+07  1.026685e+07   \n",
       "\n",
       "           usd_goal  \n",
       "count  1.000000e+05  \n",
       "mean   4.052436e+04  \n",
       "std    1.191352e+06  \n",
       "min    1.000000e-02  \n",
       "25%    1.500000e+03  \n",
       "50%    5.000000e+03  \n",
       "75%    1.200000e+04  \n",
       "max    1.401112e+08  "
      ]
     },
     "metadata": {},
     "execution_count": 4
    }
   ],
   "metadata": {}
  },
  {
   "cell_type": "markdown",
   "source": [
    "### **Calculate Percentage of success**"
   ],
   "metadata": {}
  },
  {
   "cell_type": "code",
   "execution_count": 5,
   "source": [
    "df_ks['pt_success'] = df_ks['usd_pledged'] / df_ks['usd_goal']\r\n",
    "df_ks['pt_success'].describe()\r\n"
   ],
   "outputs": [
    {
     "output_type": "execute_result",
     "data": {
      "text/plain": [
       "count    100000.000000\n",
       "mean          3.282139\n",
       "std         165.490788\n",
       "min           0.000000\n",
       "25%           0.028995\n",
       "50%           1.017750\n",
       "75%           1.232006\n",
       "max       41535.010000\n",
       "Name: pt_success, dtype: float64"
      ]
     },
     "metadata": {},
     "execution_count": 5
    }
   ],
   "metadata": {}
  },
  {
   "cell_type": "markdown",
   "source": [
    "**对threshold的选择**\r\n",
    "```\r\n",
    "> 5 : 3000+\r\n",
    "> 10: 1700+\r\n",
    "```"
   ],
   "metadata": {}
  },
  {
   "cell_type": "code",
   "execution_count": 6,
   "source": [
    "outliers = df_ks.index[df_ks['pt_success'] > 5]\r\n",
    "outliers"
   ],
   "outputs": [
    {
     "output_type": "execute_result",
     "data": {
      "text/plain": [
       "Int64Index([    7,    70,    97,   100,   145,   170,   181,   252,   253,\n",
       "              274,\n",
       "            ...\n",
       "            98397, 98740, 98762, 98803, 98806, 98956, 98959, 99095, 99472,\n",
       "            99990],\n",
       "           dtype='int64', length=3189)"
      ]
     },
     "metadata": {},
     "execution_count": 6
    }
   ],
   "metadata": {}
  },
  {
   "cell_type": "markdown",
   "source": [
    "**Typical Extreme case**\r\n",
    "\r\n",
    "```\r\n",
    "index = 54553\r\n",
    "goal = 1\r\n",
    "pledged = 41535\r\n",
    "category = game\r\n",
    "```"
   ],
   "metadata": {}
  },
  {
   "cell_type": "markdown",
   "source": [
    "**Kill outliers**"
   ],
   "metadata": {}
  },
  {
   "cell_type": "code",
   "execution_count": 7,
   "source": [
    "df_ks.drop(outliers, inplace=True)"
   ],
   "outputs": [],
   "metadata": {}
  },
  {
   "cell_type": "markdown",
   "source": [
    "**check new data**"
   ],
   "metadata": {}
  },
  {
   "cell_type": "code",
   "execution_count": 8,
   "source": [
    "df_ks['pt_success'].describe()"
   ],
   "outputs": [
    {
     "output_type": "execute_result",
     "data": {
      "text/plain": [
       "count    96811.000000\n",
       "mean         0.847285\n",
       "std          0.846888\n",
       "min          0.000000\n",
       "25%          0.024325\n",
       "50%          1.012000\n",
       "75%          1.194131\n",
       "max          5.000000\n",
       "Name: pt_success, dtype: float64"
      ]
     },
     "metadata": {},
     "execution_count": 8
    }
   ],
   "metadata": {}
  },
  {
   "cell_type": "markdown",
   "source": [
    "**We tried to log化 success rate， but the result is not very pleasantable**"
   ],
   "metadata": {}
  },
  {
   "cell_type": "code",
   "execution_count": 9,
   "source": [
    "\r\n",
    "# df_ks['lgpt_success'] = np.log(df_ks['pt_success'])\r\n",
    "# df_ks['lgpt_success'].describe()"
   ],
   "outputs": [
    {
     "output_type": "execute_result",
     "data": {
      "text/plain": [
       "count    1.000000e+05\n",
       "mean             -inf\n",
       "std               NaN\n",
       "min              -inf\n",
       "25%     -3.540616e+00\n",
       "50%      1.759431e-02\n",
       "75%      2.086440e-01\n",
       "max      1.063429e+01\n",
       "Name: lgpt_success, dtype: float64"
      ]
     },
     "metadata": {},
     "execution_count": 9
    }
   ],
   "metadata": {}
  },
  {
   "cell_type": "markdown",
   "source": [
    "### **Calculate Promotion Duration**"
   ],
   "metadata": {}
  },
  {
   "cell_type": "code",
   "execution_count": 9,
   "source": [
    "duration = pd.to_datetime(df_ks['deadline'], unit='s') - pd.to_datetime(df_ks['launched_at'], unit='s')"
   ],
   "outputs": [],
   "metadata": {}
  },
  {
   "cell_type": "code",
   "execution_count": 10,
   "source": [
    "# transtate the yyyy-mm-dd format to int\r\n",
    "df_ks['promotion_duration'] = duration / np.timedelta64(1, 'D')\r\n",
    "df_ks['promotion_duration'].describe()"
   ],
   "outputs": [
    {
     "output_type": "execute_result",
     "data": {
      "text/plain": [
       "count    96811.000000\n",
       "mean        33.925830\n",
       "std         12.970054\n",
       "min          1.000000\n",
       "25%         30.000000\n",
       "50%         30.000000\n",
       "75%         36.070608\n",
       "max         91.958333\n",
       "Name: promotion_duration, dtype: float64"
      ]
     },
     "metadata": {},
     "execution_count": 10
    }
   ],
   "metadata": {}
  },
  {
   "cell_type": "markdown",
   "source": [
    "### **Explore other features**"
   ],
   "metadata": {}
  },
  {
   "cell_type": "markdown",
   "source": [
    "#### **Category**"
   ],
   "metadata": {}
  },
  {
   "cell_type": "code",
   "execution_count": 11,
   "source": [
    "sns.boxplot(df_ks['pt_success'], df_ks['category'])"
   ],
   "outputs": [
    {
     "output_type": "execute_result",
     "data": {
      "text/plain": [
       "<AxesSubplot:xlabel='pt_success', ylabel='category'>"
      ]
     },
     "metadata": {},
     "execution_count": 11
    },
    {
     "output_type": "display_data",
     "data": {
      "image/png": "[encoded data removed]",
      "text/plain": [
       "<Figure size 1152x576 with 1 Axes>"
      ]
     },
     "metadata": {
      "needs_background": "light"
     }
    }
   ],
   "metadata": {}
  },
  {
   "cell_type": "markdown",
   "source": [
    "### **Country**"
   ],
   "metadata": {}
  },
  {
   "cell_type": "code",
   "execution_count": 13,
   "source": [
    "df_ks['country'].describe()"
   ],
   "outputs": [
    {
     "output_type": "execute_result",
     "data": {
      "text/plain": [
       "count     96808\n",
       "unique      174\n",
       "top          US\n",
       "freq      74221\n",
       "Name: country, dtype: object"
      ]
     },
     "metadata": {},
     "execution_count": 13
    }
   ],
   "metadata": {}
  },
  {
   "cell_type": "markdown",
   "source": [
    "**Top 10 countries**"
   ],
   "metadata": {}
  },
  {
   "cell_type": "code",
   "execution_count": null,
   "source": [
    "n = 10\r\n",
    "top_10 = df_ks['country'].value_counts()[:n].index"
   ],
   "outputs": [],
   "metadata": {}
  },
  {
   "cell_type": "code",
   "execution_count": 16,
   "source": [
    "print(top_10)"
   ],
   "outputs": [
    {
     "output_type": "stream",
     "name": "stdout",
     "text": [
      "Index(['US', 'GB', 'CA', 'AU', 'DE', 'FR', '?', 'NL', 'IT', 'ES'], dtype='object')\n"
     ]
    }
   ],
   "metadata": {}
  },
  {
   "cell_type": "markdown",
   "source": [
    "**Select top 10 countries records**"
   ],
   "metadata": {}
  },
  {
   "cell_type": "code",
   "execution_count": 20,
   "source": [
    "tops = df_ks.loc[df_ks['country'].isin(top_10)]"
   ],
   "outputs": [],
   "metadata": {}
  },
  {
   "cell_type": "code",
   "execution_count": null,
   "source": [
    "print(tops)"
   ],
   "outputs": [],
   "metadata": {}
  },
  {
   "cell_type": "markdown",
   "source": [
    "**Boxplot**"
   ],
   "metadata": {}
  },
  {
   "cell_type": "code",
   "execution_count": 23,
   "source": [
    "sns.boxplot(tops['pt_success'], tops['country'])"
   ],
   "outputs": [
    {
     "output_type": "execute_result",
     "data": {
      "text/plain": [
       "<AxesSubplot:xlabel='pt_success', ylabel='country'>"
      ]
     },
     "metadata": {},
     "execution_count": 23
    },
    {
     "output_type": "display_data",
     "data": {
      "image/png": "[encoded data removed]",
      "text/plain": [
       "<Figure size 1152x576 with 1 Axes>"
      ]
     },
     "metadata": {
      "needs_background": "light"
     }
    }
   ],
   "metadata": {}
  },
  {
   "cell_type": "markdown",
   "source": [
    "### **HeatMap**"
   ],
   "metadata": {}
  },
  {
   "cell_type": "markdown",
   "source": [
    "**Clear invalid data**"
   ],
   "metadata": {}
  },
  {
   "cell_type": "code",
   "execution_count": 26,
   "source": [
    "hm_features = ['backers_count', 'converted_pledged_amount', 'pt_success', 'promotion_duration','usd_goal', 'staff_pick']\r\n",
    "nulls = df_ks[hm_features].isnull().sum()\r\n",
    "print(nulls)"
   ],
   "outputs": [
    {
     "output_type": "stream",
     "name": "stdout",
     "text": [
      "backers_count               0\n",
      "converted_pledged_amount    0\n",
      "pt_success                  0\n",
      "promotion_duration          0\n",
      "usd_goal                    0\n",
      "staff_pick                  0\n",
      "dtype: int64\n"
     ]
    }
   ],
   "metadata": {}
  },
  {
   "cell_type": "code",
   "execution_count": 27,
   "source": [
    "corrmat_all = df_ks[hm_features].corr()\r\n",
    "sns.heatmap(corrmat_all,square=True, annot=True)"
   ],
   "outputs": [
    {
     "output_type": "execute_result",
     "data": {
      "text/plain": [
       "<AxesSubplot:>"
      ]
     },
     "metadata": {},
     "execution_count": 27
    },
    {
     "output_type": "display_data",
     "data": {
      "image/png": "[encoded data removed]",
      "text/plain": [
       "<Figure size 1152x576 with 2 Axes>"
      ]
     },
     "metadata": {
      "needs_background": "light"
     }
    }
   ],
   "metadata": {}
  },
  {
   "cell_type": "markdown",
   "source": [
    "## Text Feature\r\n",
    "Test using TF-IDF to convert text feature into numerical features."
   ],
   "metadata": {}
  },
  {
   "cell_type": "markdown",
   "source": [
    "Print blurb information"
   ],
   "metadata": {}
  },
  {
   "cell_type": "code",
   "execution_count": null,
   "source": [
    "print(data_ks_train.blurb[15])\r\n",
    "print(data_ks_train.funded[15])"
   ],
   "outputs": [],
   "metadata": {}
  },
  {
   "cell_type": "markdown",
   "source": [
    "Convert `funded` into `0` and `1`"
   ],
   "metadata": {}
  },
  {
   "cell_type": "markdown",
   "source": [
    "**转化之后反而没有办法来fit model了！！！**"
   ],
   "metadata": {}
  },
  {
   "cell_type": "code",
   "execution_count": null,
   "source": [
    "\r\n",
    "# data_ks_prep.loc[data_ks_prep.funded == True, 'funded'] = 1\r\n",
    "# data_ks_prep.loc[data_ks_prep.funded == False, 'funded'] = 0"
   ],
   "outputs": [],
   "metadata": {}
  },
  {
   "cell_type": "code",
   "execution_count": null,
   "source": [
    "print('invalid funded entries:', data_ks_prep.funded.isnull().sum())"
   ],
   "outputs": [],
   "metadata": {}
  },
  {
   "cell_type": "markdown",
   "source": [
    "**Test if funded are converted**"
   ],
   "metadata": {}
  },
  {
   "cell_type": "code",
   "execution_count": null,
   "source": [
    "print(data_ks_prep.funded[15])"
   ],
   "outputs": [],
   "metadata": {}
  },
  {
   "cell_type": "markdown",
   "source": [
    "### 预处理Blurb\r\n"
   ],
   "metadata": {}
  },
  {
   "cell_type": "markdown",
   "source": [
    "**用空格替换NaN数据**"
   ],
   "metadata": {}
  },
  {
   "cell_type": "code",
   "execution_count": null,
   "source": [
    "#好像不起作用\r\n",
    "\r\n",
    "# data_ks_prep.loc[data_ks_prep.blurb.isnull(), 'funded'] = ' '\r\n",
    "# print('invalid Blurb entries:', data_ks_prep.blurb.isnull().sum())\r\n",
    "# print(data_ks_prep.loc[data_ks_prep['blurb'].isnull()])"
   ],
   "outputs": [],
   "metadata": {}
  },
  {
   "cell_type": "markdown",
   "source": [
    "### 对文本进行分词\r\n",
    "构建特征字典，将文档转换成特征向量"
   ],
   "metadata": {}
  },
  {
   "cell_type": "code",
   "execution_count": null,
   "source": [
    "count_vect = CountVectorizer()\r\n",
    "X_train_counts = count_vect.fit_transform(data_ks_prep.blurb.values.astype('U'))\r\n",
    "X_train_counts.shape"
   ],
   "outputs": [],
   "metadata": {}
  },
  {
   "cell_type": "markdown",
   "source": [
    "**构建N-gram模型字典**"
   ],
   "metadata": {}
  },
  {
   "cell_type": "code",
   "execution_count": null,
   "source": [
    "count_vect.vocabulary_.get(u'algorithm')"
   ],
   "outputs": [],
   "metadata": {}
  },
  {
   "cell_type": "markdown",
   "source": [
    "**根据词频算法重构**"
   ],
   "metadata": {}
  },
  {
   "cell_type": "code",
   "execution_count": null,
   "source": [
    "tf_vec = TfidfVectorizer()\r\n",
    "X_train_tf = tf_vec.fit_transform(data_ks_prep.blurb.values.astype('U'))\r\n",
    "X_train_tf.shape"
   ],
   "outputs": [],
   "metadata": {}
  },
  {
   "cell_type": "code",
   "execution_count": null,
   "source": [
    "\r\n",
    "# blurbs = data_ks_train['blurb']\r\n",
    "# vec = TfidfVectorizer()\r\n",
    "# X = vec.fit_transform(blurbs.values.astype('U'))\r\n",
    "# pd.DataFrame(X.toarray(), columns=vec.get_feature_names())\r\n",
    "\r\n",
    "#names = data_ks_train['name']\r\n",
    "#vec = TfidfVectorizer()\r\n",
    "#X2 = vec.fit_transform(names.values.astype('U'))\r\n",
    "#pd.DataFrame(X2.toarray(), columns=vec.get_feature_names())\r\n"
   ],
   "outputs": [],
   "metadata": {}
  },
  {
   "cell_type": "markdown",
   "source": [
    "## 拆分为Train Dataset 和 Test Dataset"
   ],
   "metadata": {}
  },
  {
   "cell_type": "code",
   "execution_count": null,
   "source": [
    "features = ['','']\r\n",
    "X = data_ks_prep[features]\r\n",
    "y = data_ks_prep['funded']\r\n",
    "\r\n",
    "X_train, X_test, y_train, y_test = train_test_split(X, y, test_size = 0.3)"
   ],
   "outputs": [],
   "metadata": {}
  },
  {
   "cell_type": "markdown",
   "source": [
    "## 尝试使用贝叶斯来分类"
   ],
   "metadata": {}
  },
  {
   "cell_type": "markdown",
   "source": [
    "前期准备"
   ],
   "metadata": {}
  },
  {
   "cell_type": "code",
   "execution_count": null,
   "source": [
    "# from sklearn.naive_bayes import MultinomialNB\r\n",
    "# clf = MultinomialNB().fit(X_train_tf,data_ks_prep.funded)"
   ],
   "outputs": [],
   "metadata": {}
  },
  {
   "cell_type": "markdown",
   "source": [
    "## KNN Classification"
   ],
   "metadata": {}
  },
  {
   "cell_type": "code",
   "execution_count": null,
   "source": [
    "from sklearn.neighbors import KNeighborsClassifier\r\n",
    "\r\n",
    "knn = KNeighborsClassifier(n_neighbors=5)\r\n",
    "\r\n",
    "knn.fit(X_train, y_train)"
   ],
   "outputs": [],
   "metadata": {}
  },
  {
   "cell_type": "markdown",
   "source": [
    "### Predict test target"
   ],
   "metadata": {}
  },
  {
   "cell_type": "code",
   "execution_count": null,
   "source": [
    "y_pred = knn.predict(X_test)"
   ],
   "outputs": [],
   "metadata": {}
  },
  {
   "cell_type": "markdown",
   "source": [
    "## Evaluate"
   ],
   "metadata": {}
  },
  {
   "cell_type": "code",
   "execution_count": null,
   "source": [
    "from sklearn import metrics\r\n",
    "\r\n",
    "print(\"Accuracy:\",metrics.accuracy_score(y_test, y_pred))"
   ],
   "outputs": [],
   "metadata": {}
  }
 ],
 "metadata": {
  "orig_nbformat": 4,
  "language_info": {
   "name": "python",
   "version": "3.9.5",
   "mimetype": "text/x-python",
   "codemirror_mode": {
    "name": "ipython",
    "version": 3
   },
   "pygments_lexer": "ipython3",
   "nbconvert_exporter": "python",
   "file_extension": ".py"
  },
  "kernelspec": {
   "name": "python3",
   "display_name": "Python 3.9.5 64-bit"
  },
  "interpreter": {
   "hash": "ac59ebe37160ed0dfa835113d9b8498d9f09ceb179beaac4002f036b9467c963"
  }
 },
 "nbformat": 4,
 "nbformat_minor": 2
}